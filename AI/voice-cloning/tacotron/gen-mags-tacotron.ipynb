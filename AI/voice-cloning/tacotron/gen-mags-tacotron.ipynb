{
 "cells": [
  {
   "cell_type": "code",
   "execution_count": 6,
   "id": "31819ab7-ec1a-4f99-98a5-83aaec7c6e3a",
   "metadata": {},
   "outputs": [],
   "source": [
    "import librosa\n",
    "import numpy as np\n",
    "\n",
    "\n",
    "class AudioPreprocessor:\n",
    "    def __init__(self, config):\n",
    "        self.config = config\n",
    "\n",
    "    def normalize(self, spectrogram_in_db):\n",
    "        '''Normalize spectrogram in decibel values between 0 and 1.'''\n",
    "        normalized_spectrogram_in_db = (\n",
    "            spectrogram_in_db - self.config.REF_LEVEL_DB - self.config.MIN_LEVEL_DB\n",
    "        ) / -self.config.MIN_LEVEL_DB\n",
    "\n",
    "        return np.clip(normalized_spectrogram_in_db, self.config.ZERO_THRESHOLD, 1)\n",
    "\n",
    "    def magnitude_to_mel(self, magnitude):\n",
    "        '''Convert a magnitude spectrogram to a mel spectrogram.'''\n",
    "        return librosa.feature.melspectrogram(\n",
    "            S=magnitude,\n",
    "            sr=self.config.SAMPLE_RATE,\n",
    "            n_fft=self.config.N_FFT,\n",
    "            n_mels=self.config.N_MELS,\n",
    "            fmin=self.config.FMIN,\n",
    "            fmax=self.config.FMAX,\n",
    "        )\n",
    "\n",
    "    def trim_audio(self, y):\n",
    "        y_trimmed, _ = librosa.effects.trim(y)\n",
    "        return y_trimmed\n",
    "\n",
    "    def amp_to_db(self, mel_spectrogram):\n",
    "        '''Convert amplitude spectrogram to decibel scale.'''\n",
    "        return 20.0 * np.log10(\n",
    "            np.maximum(self.config.ZERO_THRESHOLD, mel_spectrogram)\n",
    "        )\n",
    "\n",
    "    def audio_to_stft(self, audio):\n",
    "        '''Generate Short-Time Fourier Transform (STFT) from the audio time series.'''\n",
    "        return librosa.stft(\n",
    "            y=audio,\n",
    "            n_fft=self.config.N_FFT,\n",
    "            hop_length=self.config.HOP_LENGTH,\n",
    "            win_length=self.config.WIN_LENGTH,\n",
    "        )\n",
    "\n",
    "    def apply_pre_emphasis(self, y):\n",
    "        '''Apply a pre-emphasis filter to the audio signal.'''\n",
    "        return np.append(y[0], y[1:] - self.config.PRE_EMPHASIS * y[:-1])\n",
    "\n",
    "    def stft_to_magnitude(self, linear):\n",
    "        '''Compute the magnitude spectrogram from STFT.'''\n",
    "        return np.abs(linear)\n",
    "\n",
    "    def audio_to_mel_db(self, audio):\n",
    "        '''Convert a given linear spectrogram to a log mel spectrogram (mel spectrogram in db) and return it.'''\n",
    "        # audio = self.trim_audio(audio)\n",
    "        stft = self.audio_to_stft(audio)\n",
    "        magnitude = self.stft_to_magnitude(stft)\n",
    "        mel = self.magnitude_to_mel(magnitude)\n",
    "        mel = self.amp_to_db(mel)\n",
    "        return self.normalize(mel)\n",
    "    \n",
    "    def audio_to_magnitude_db(self, audio):\n",
    "        '''Convert a given linear spectrogram to a magnitude spectrogram.'''\n",
    "        # audio = self.trim_audio(audio)\n",
    "        stft = self.audio_to_stft(audio)\n",
    "        magnitude_in_amp =  self.stft_to_magnitude(stft)\n",
    "        magnitude_in_db = self.amp_to_db(magnitude_in_amp)\n",
    "        return self.normalize(magnitude_in_db)"
   ]
  },
  {
   "cell_type": "code",
   "execution_count": 7,
   "id": "4dd3443e-a220-486a-9e70-e93148fda8a6",
   "metadata": {},
   "outputs": [],
   "source": [
    "class Text2SpeechAudioConfig:\n",
    "    N_MELS = 80\n",
    "    SAMPLE_RATE = 16000\n",
    "    N_FFT = 800\n",
    "    FRAME_SHIFT = 0.0125\n",
    "    FRAME_LENGTH = 0.05\n",
    "    REF_LEVEL_DB = 20\n",
    "    HOP_LENGTH = int(SAMPLE_RATE * FRAME_SHIFT)\n",
    "    WIN_LENGTH = int(SAMPLE_RATE * FRAME_LENGTH)\n",
    "    PRE_EMPHASIS = 0.97\n",
    "    POWER = 1.2\n",
    "    FMIN = 55\n",
    "    FMAX = 7600\n",
    "    ZERO_THRESHOLD = 1e-5\n",
    "    MIN_LEVEL_DB = -100"
   ]
  },
  {
   "cell_type": "code",
   "execution_count": 8,
   "id": "8eaed994-ed2a-4865-9f68-e09c30134da1",
   "metadata": {},
   "outputs": [],
   "source": [
    "SAVE_DIR = \"mel2mag/mags\""
   ]
  },
  {
   "cell_type": "code",
   "execution_count": 9,
   "id": "d63ebc0a-3faa-4d85-8c4f-abda749e5e3b",
   "metadata": {},
   "outputs": [],
   "source": [
    "DATA_ROOT = \"LibriSpeech/train-clean-100\""
   ]
  },
  {
   "cell_type": "code",
   "execution_count": 10,
   "id": "3225da78-453a-4bd4-9d91-147fa71a8bdd",
   "metadata": {},
   "outputs": [],
   "source": [
    "import os\n",
    "\n",
    "audios = []\n",
    "for root, dirs, files in os.walk(DATA_ROOT):\n",
    "    for file in files:\n",
    "        if file.endswith(\".flac\"):\n",
    "            audios.append(os.path.join(root, file))"
   ]
  },
  {
   "cell_type": "code",
   "execution_count": 11,
   "id": "8e51cc50-c6a4-4f6d-a060-9dab061b0156",
   "metadata": {},
   "outputs": [
    {
     "data": {
      "text/plain": [
       "28539"
      ]
     },
     "execution_count": 11,
     "metadata": {},
     "output_type": "execute_result"
    }
   ],
   "source": [
    "len(audios)"
   ]
  },
  {
   "cell_type": "code",
   "execution_count": 12,
   "id": "1e38cad3-18a1-4405-b848-a3643b015471",
   "metadata": {},
   "outputs": [],
   "source": [
    "AUDIO_PROCESSOR = AudioPreprocessor(Text2SpeechAudioConfig)"
   ]
  },
  {
   "cell_type": "code",
   "execution_count": 13,
   "id": "9651c2e3-76c8-4a6f-9bc4-b476d0583f25",
   "metadata": {},
   "outputs": [
    {
     "name": "stderr",
     "output_type": "stream",
     "text": [
      "Generate mag:   2%|▏         | 701/28539 [02:07<1:24:11,  5.51it/s]\n"
     ]
    },
    {
     "ename": "KeyboardInterrupt",
     "evalue": "",
     "output_type": "error",
     "traceback": [
      "\u001b[0;31m---------------------------------------------------------------------------\u001b[0m",
      "\u001b[0;31mKeyboardInterrupt\u001b[0m                         Traceback (most recent call last)",
      "Cell \u001b[0;32mIn[13], line 5\u001b[0m\n\u001b[1;32m      3\u001b[0m \u001b[38;5;28;01mfor\u001b[39;00m file \u001b[38;5;129;01min\u001b[39;00m tqdm(audios, desc\u001b[38;5;241m=\u001b[39m\u001b[38;5;124m\"\u001b[39m\u001b[38;5;124mGenerate mag\u001b[39m\u001b[38;5;124m\"\u001b[39m):\n\u001b[1;32m      4\u001b[0m     audio, sr \u001b[38;5;241m=\u001b[39m librosa\u001b[38;5;241m.\u001b[39mload(file, sr\u001b[38;5;241m=\u001b[39m\u001b[38;5;241m16000\u001b[39m)\n\u001b[0;32m----> 5\u001b[0m     mag \u001b[38;5;241m=\u001b[39m \u001b[43mAUDIO_PROCESSOR\u001b[49m\u001b[38;5;241;43m.\u001b[39;49m\u001b[43maudio_to_magnitude_db\u001b[49m\u001b[43m(\u001b[49m\u001b[43maudio\u001b[49m\u001b[43m)\u001b[49m\n\u001b[1;32m      6\u001b[0m     np\u001b[38;5;241m.\u001b[39msave(os\u001b[38;5;241m.\u001b[39mpath\u001b[38;5;241m.\u001b[39mjoin(SAVE_DIR, file\u001b[38;5;241m.\u001b[39msplit(\u001b[38;5;124m\"\u001b[39m\u001b[38;5;124m/\u001b[39m\u001b[38;5;124m\"\u001b[39m)[\u001b[38;5;241m-\u001b[39m\u001b[38;5;241m1\u001b[39m][:\u001b[38;5;241m-\u001b[39m\u001b[38;5;241m4\u001b[39m] \u001b[38;5;241m+\u001b[39m \u001b[38;5;124m\"\u001b[39m\u001b[38;5;124m.npy\u001b[39m\u001b[38;5;124m\"\u001b[39m), mag)\n",
      "Cell \u001b[0;32mIn[6], line 67\u001b[0m, in \u001b[0;36mAudioPreprocessor.audio_to_magnitude_db\u001b[0;34m(self, audio)\u001b[0m\n\u001b[1;32m     65\u001b[0m \u001b[38;5;250m\u001b[39m\u001b[38;5;124;03m'''Convert a given linear spectrogram to a magnitude spectrogram.'''\u001b[39;00m\n\u001b[1;32m     66\u001b[0m \u001b[38;5;66;03m# audio = self.trim_audio(audio)\u001b[39;00m\n\u001b[0;32m---> 67\u001b[0m stft \u001b[38;5;241m=\u001b[39m \u001b[38;5;28;43mself\u001b[39;49m\u001b[38;5;241;43m.\u001b[39;49m\u001b[43maudio_to_stft\u001b[49m\u001b[43m(\u001b[49m\u001b[43maudio\u001b[49m\u001b[43m)\u001b[49m\n\u001b[1;32m     68\u001b[0m magnitude_in_amp \u001b[38;5;241m=\u001b[39m  \u001b[38;5;28mself\u001b[39m\u001b[38;5;241m.\u001b[39mstft_to_magnitude(stft)\n\u001b[1;32m     69\u001b[0m magnitude_in_db \u001b[38;5;241m=\u001b[39m \u001b[38;5;28mself\u001b[39m\u001b[38;5;241m.\u001b[39mamp_to_db(magnitude_in_amp)\n",
      "Cell \u001b[0;32mIn[6], line 40\u001b[0m, in \u001b[0;36mAudioPreprocessor.audio_to_stft\u001b[0;34m(self, audio)\u001b[0m\n\u001b[1;32m     38\u001b[0m \u001b[38;5;28;01mdef\u001b[39;00m \u001b[38;5;21maudio_to_stft\u001b[39m(\u001b[38;5;28mself\u001b[39m, audio):\n\u001b[1;32m     39\u001b[0m \u001b[38;5;250m    \u001b[39m\u001b[38;5;124;03m'''Generate Short-Time Fourier Transform (STFT) from the audio time series.'''\u001b[39;00m\n\u001b[0;32m---> 40\u001b[0m     \u001b[38;5;28;01mreturn\u001b[39;00m \u001b[43mlibrosa\u001b[49m\u001b[38;5;241;43m.\u001b[39;49m\u001b[43mstft\u001b[49m\u001b[43m(\u001b[49m\n\u001b[1;32m     41\u001b[0m \u001b[43m        \u001b[49m\u001b[43my\u001b[49m\u001b[38;5;241;43m=\u001b[39;49m\u001b[43maudio\u001b[49m\u001b[43m,\u001b[49m\n\u001b[1;32m     42\u001b[0m \u001b[43m        \u001b[49m\u001b[43mn_fft\u001b[49m\u001b[38;5;241;43m=\u001b[39;49m\u001b[38;5;28;43mself\u001b[39;49m\u001b[38;5;241;43m.\u001b[39;49m\u001b[43mconfig\u001b[49m\u001b[38;5;241;43m.\u001b[39;49m\u001b[43mN_FFT\u001b[49m\u001b[43m,\u001b[49m\n\u001b[1;32m     43\u001b[0m \u001b[43m        \u001b[49m\u001b[43mhop_length\u001b[49m\u001b[38;5;241;43m=\u001b[39;49m\u001b[38;5;28;43mself\u001b[39;49m\u001b[38;5;241;43m.\u001b[39;49m\u001b[43mconfig\u001b[49m\u001b[38;5;241;43m.\u001b[39;49m\u001b[43mHOP_LENGTH\u001b[49m\u001b[43m,\u001b[49m\n\u001b[1;32m     44\u001b[0m \u001b[43m        \u001b[49m\u001b[43mwin_length\u001b[49m\u001b[38;5;241;43m=\u001b[39;49m\u001b[38;5;28;43mself\u001b[39;49m\u001b[38;5;241;43m.\u001b[39;49m\u001b[43mconfig\u001b[49m\u001b[38;5;241;43m.\u001b[39;49m\u001b[43mWIN_LENGTH\u001b[49m\u001b[43m,\u001b[49m\n\u001b[1;32m     45\u001b[0m \u001b[43m    \u001b[49m\u001b[43m)\u001b[49m\n",
      "File \u001b[0;32m/opt/conda/lib/python3.11/site-packages/librosa/core/spectrum.py:387\u001b[0m, in \u001b[0;36mstft\u001b[0;34m(y, n_fft, hop_length, win_length, window, center, dtype, pad_mode, out)\u001b[0m\n\u001b[1;32m    384\u001b[0m \u001b[38;5;28;01mfor\u001b[39;00m bl_s \u001b[38;5;129;01min\u001b[39;00m \u001b[38;5;28mrange\u001b[39m(\u001b[38;5;241m0\u001b[39m, y_frames\u001b[38;5;241m.\u001b[39mshape[\u001b[38;5;241m-\u001b[39m\u001b[38;5;241m1\u001b[39m], n_columns):\n\u001b[1;32m    385\u001b[0m     bl_t \u001b[38;5;241m=\u001b[39m \u001b[38;5;28mmin\u001b[39m(bl_s \u001b[38;5;241m+\u001b[39m n_columns, y_frames\u001b[38;5;241m.\u001b[39mshape[\u001b[38;5;241m-\u001b[39m\u001b[38;5;241m1\u001b[39m])\n\u001b[0;32m--> 387\u001b[0m     stft_matrix[\u001b[38;5;241m.\u001b[39m\u001b[38;5;241m.\u001b[39m\u001b[38;5;241m.\u001b[39m, bl_s \u001b[38;5;241m+\u001b[39m off_start : bl_t \u001b[38;5;241m+\u001b[39m off_start] \u001b[38;5;241m=\u001b[39m \u001b[43mfft\u001b[49m\u001b[38;5;241;43m.\u001b[39;49m\u001b[43mrfft\u001b[49m\u001b[43m(\u001b[49m\n\u001b[1;32m    388\u001b[0m \u001b[43m        \u001b[49m\u001b[43mfft_window\u001b[49m\u001b[43m \u001b[49m\u001b[38;5;241;43m*\u001b[39;49m\u001b[43m \u001b[49m\u001b[43my_frames\u001b[49m\u001b[43m[\u001b[49m\u001b[38;5;241;43m.\u001b[39;49m\u001b[38;5;241;43m.\u001b[39;49m\u001b[38;5;241;43m.\u001b[39;49m\u001b[43m,\u001b[49m\u001b[43m \u001b[49m\u001b[43mbl_s\u001b[49m\u001b[43m:\u001b[49m\u001b[43mbl_t\u001b[49m\u001b[43m]\u001b[49m\u001b[43m,\u001b[49m\u001b[43m \u001b[49m\u001b[43maxis\u001b[49m\u001b[38;5;241;43m=\u001b[39;49m\u001b[38;5;241;43m-\u001b[39;49m\u001b[38;5;241;43m2\u001b[39;49m\n\u001b[1;32m    389\u001b[0m \u001b[43m    \u001b[49m\u001b[43m)\u001b[49m\n\u001b[1;32m    390\u001b[0m \u001b[38;5;28;01mreturn\u001b[39;00m stft_matrix\n",
      "File \u001b[0;32m/opt/conda/lib/python3.11/site-packages/numpy/fft/_pocketfft.py:414\u001b[0m, in \u001b[0;36mrfft\u001b[0;34m(a, n, axis, norm, out)\u001b[0m\n\u001b[1;32m    412\u001b[0m \u001b[38;5;28;01mif\u001b[39;00m n \u001b[38;5;129;01mis\u001b[39;00m \u001b[38;5;28;01mNone\u001b[39;00m:\n\u001b[1;32m    413\u001b[0m     n \u001b[38;5;241m=\u001b[39m a\u001b[38;5;241m.\u001b[39mshape[axis]\n\u001b[0;32m--> 414\u001b[0m output \u001b[38;5;241m=\u001b[39m \u001b[43m_raw_fft\u001b[49m\u001b[43m(\u001b[49m\u001b[43ma\u001b[49m\u001b[43m,\u001b[49m\u001b[43m \u001b[49m\u001b[43mn\u001b[49m\u001b[43m,\u001b[49m\u001b[43m \u001b[49m\u001b[43maxis\u001b[49m\u001b[43m,\u001b[49m\u001b[43m \u001b[49m\u001b[38;5;28;43;01mTrue\u001b[39;49;00m\u001b[43m,\u001b[49m\u001b[43m \u001b[49m\u001b[38;5;28;43;01mTrue\u001b[39;49;00m\u001b[43m,\u001b[49m\u001b[43m \u001b[49m\u001b[43mnorm\u001b[49m\u001b[43m,\u001b[49m\u001b[43m \u001b[49m\u001b[43mout\u001b[49m\u001b[38;5;241;43m=\u001b[39;49m\u001b[43mout\u001b[49m\u001b[43m)\u001b[49m\n\u001b[1;32m    415\u001b[0m \u001b[38;5;28;01mreturn\u001b[39;00m output\n",
      "File \u001b[0;32m/opt/conda/lib/python3.11/site-packages/numpy/fft/_pocketfft.py:94\u001b[0m, in \u001b[0;36m_raw_fft\u001b[0;34m(a, n, axis, is_real, is_forward, norm, out)\u001b[0m\n\u001b[1;32m     90\u001b[0m \u001b[38;5;28;01melif\u001b[39;00m ((shape \u001b[38;5;241m:=\u001b[39m \u001b[38;5;28mgetattr\u001b[39m(out, \u001b[38;5;124m\"\u001b[39m\u001b[38;5;124mshape\u001b[39m\u001b[38;5;124m\"\u001b[39m, \u001b[38;5;28;01mNone\u001b[39;00m)) \u001b[38;5;129;01mis\u001b[39;00m \u001b[38;5;129;01mnot\u001b[39;00m \u001b[38;5;28;01mNone\u001b[39;00m\n\u001b[1;32m     91\u001b[0m       \u001b[38;5;129;01mand\u001b[39;00m (\u001b[38;5;28mlen\u001b[39m(shape) \u001b[38;5;241m!=\u001b[39m a\u001b[38;5;241m.\u001b[39mndim \u001b[38;5;129;01mor\u001b[39;00m shape[axis] \u001b[38;5;241m!=\u001b[39m n_out)):\n\u001b[1;32m     92\u001b[0m     \u001b[38;5;28;01mraise\u001b[39;00m \u001b[38;5;167;01mValueError\u001b[39;00m(\u001b[38;5;124m\"\u001b[39m\u001b[38;5;124moutput array has wrong shape.\u001b[39m\u001b[38;5;124m\"\u001b[39m)\n\u001b[0;32m---> 94\u001b[0m \u001b[38;5;28;01mreturn\u001b[39;00m \u001b[43mufunc\u001b[49m\u001b[43m(\u001b[49m\u001b[43ma\u001b[49m\u001b[43m,\u001b[49m\u001b[43m \u001b[49m\u001b[43mfct\u001b[49m\u001b[43m,\u001b[49m\u001b[43m \u001b[49m\u001b[43maxes\u001b[49m\u001b[38;5;241;43m=\u001b[39;49m\u001b[43m[\u001b[49m\u001b[43m(\u001b[49m\u001b[43maxis\u001b[49m\u001b[43m,\u001b[49m\u001b[43m)\u001b[49m\u001b[43m,\u001b[49m\u001b[43m \u001b[49m\u001b[43m(\u001b[49m\u001b[43m)\u001b[49m\u001b[43m,\u001b[49m\u001b[43m \u001b[49m\u001b[43m(\u001b[49m\u001b[43maxis\u001b[49m\u001b[43m,\u001b[49m\u001b[43m)\u001b[49m\u001b[43m]\u001b[49m\u001b[43m,\u001b[49m\u001b[43m \u001b[49m\u001b[43mout\u001b[49m\u001b[38;5;241;43m=\u001b[39;49m\u001b[43mout\u001b[49m\u001b[43m)\u001b[49m\n",
      "\u001b[0;31mKeyboardInterrupt\u001b[0m: "
     ]
    }
   ],
   "source": [
    "from tqdm import tqdm\n",
    "\n",
    "for file in tqdm(audios, desc=\"Generate mag\"):\n",
    "    audio, sr = librosa.load(file, sr=16000)\n",
    "    mag = AUDIO_PROCESSOR.audio_to_magnitude_db(audio)\n",
    "    np.save(os.path.join(SAVE_DIR, file.split(\"/\")[-1][:-4] + \".npy\"), mag)"
   ]
  },
  {
   "cell_type": "code",
   "execution_count": null,
   "id": "8bb1a14a-196c-4a78-b56c-739f9d00ffaa",
   "metadata": {},
   "outputs": [],
   "source": []
  },
  {
   "cell_type": "code",
   "execution_count": null,
   "id": "3adf49ca-2d3b-4956-b499-794ac92f0e00",
   "metadata": {},
   "outputs": [],
   "source": []
  }
 ],
 "metadata": {
  "kernelspec": {
   "display_name": "Python 3 (ipykernel)",
   "language": "python",
   "name": "python3"
  },
  "language_info": {
   "codemirror_mode": {
    "name": "ipython",
    "version": 3
   },
   "file_extension": ".py",
   "mimetype": "text/x-python",
   "name": "python",
   "nbconvert_exporter": "python",
   "pygments_lexer": "ipython3",
   "version": "3.11.10"
  }
 },
 "nbformat": 4,
 "nbformat_minor": 5
}
